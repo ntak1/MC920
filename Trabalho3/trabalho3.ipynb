{
 "cells": [
  {
   "cell_type": "markdown",
   "metadata": {},
   "source": [
    "# Trabalho 3\n",
    "\n",
    "RA: 184849  \n",
    "Naomi Takemoto"
   ]
  },
  {
   "cell_type": "code",
   "execution_count": 1,
   "metadata": {},
   "outputs": [],
   "source": [
    "# Import dependencies\n",
    "import numpy as np\n",
    "from skimage import morphology\n",
    "import cv2\n",
    "from cv2 import connectedComponentsWithStats\n",
    "from utils import *\n",
    "\n",
    "np.printoptions(precision=4)\n",
    "try:\n",
    "    %matplotlib qt5\n",
    "except:\n",
    "    %matplotlib"
   ]
  },
  {
   "cell_type": "markdown",
   "metadata": {},
   "source": [
    "Visualiza o dado de entrada"
   ]
  },
  {
   "cell_type": "code",
   "execution_count": 2,
   "metadata": {},
   "outputs": [
    {
     "data": {
      "image/png": "[encoded data removed]",
      "text/plain": [
       "<Figure size 216x216 with 1 Axes>"
      ]
     },
     "metadata": {},
     "output_type": "display_data"
    },
    {
     "name": "stdout",
     "output_type": "stream",
     "text": [
      "Min: 0\n",
      "Max: 1\n",
      "Mean: 0.15326995947384442\n"
     ]
    }
   ],
   "source": [
    "# load input\n",
    "image_dir = 'data'\n",
    "image, image_name = load_images(image_dir)\n",
    "image = image[0]\n",
    "\n",
    "# Save as .png\n",
    "if not os.path.exists('png_images'):\n",
    "    os.makedirs('png_images')\n",
    "cv2.imwrite('png_images/input.png', image)\n",
    "\n",
    "# From 0 - 255 to 0 -1\n",
    "image = np.array(np.where(image == 255, 0, 1))\n",
    "plot_image(image)"
   ]
  },
  {
   "cell_type": "markdown",
   "metadata": {},
   "source": [
    "**Passo 1**: (1) dilatacão da imagem original com um elemento estruturante de 1 pixel de altura e 100 pixels de largura  "
   ]
  },
  {
   "cell_type": "code",
   "execution_count": 3,
   "metadata": {},
   "outputs": [
    {
     "data": {
      "image/png": "[encoded data removed]",
      "text/plain": [
       "<Figure size 216x216 with 1 Axes>"
      ]
     },
     "metadata": {},
     "output_type": "display_data"
    },
    {
     "name": "stdout",
     "output_type": "stream",
     "text": [
      "Min: False\n",
      "Max: True\n",
      "Mean: 0.391413761162293\n"
     ]
    },
    {
     "data": {
      "text/plain": [
       "True"
      ]
     },
     "execution_count": 3,
     "metadata": {},
     "output_type": "execute_result"
    }
   ],
   "source": [
    "s_e1  = np.ones((1,100))\n",
    "output1 = morphology.binary_dilation(image,s_e1)\n",
    "\n",
    "plot_image(output1)\n",
    "\n",
    "# Save pbm\n",
    "save_pbm('pbm_images/step1.pbm', output1)\n",
    "\n",
    "# Save png\n",
    "output1_png = np.where(output1==1, 0, 255) \n",
    "output1_png = output1_png.astype(np.uint8)\n",
    "cv2.imwrite('png_images/step1.png', output1_png)"
   ]
  },
  {
   "cell_type": "markdown",
   "metadata": {},
   "source": [
    "**Passo 2:** erosão da imagem resultante com o mesmo elemento estruturante do passo (1);"
   ]
  },
  {
   "cell_type": "code",
   "execution_count": 4,
   "metadata": {},
   "outputs": [
    {
     "data": {
      "image/png": "[encoded data removed]",
      "text/plain": [
       "<Figure size 216x216 with 1 Axes>"
      ]
     },
     "metadata": {},
     "output_type": "display_data"
    },
    {
     "name": "stdout",
     "output_type": "stream",
     "text": [
      "Min: False\n",
      "Max: True\n",
      "Mean: 0.3000037156037758\n"
     ]
    },
    {
     "data": {
      "text/plain": [
       "True"
      ]
     },
     "execution_count": 4,
     "metadata": {},
     "output_type": "execute_result"
    }
   ],
   "source": [
    "output2 = morphology.binary_erosion(output1,s_e1)\n",
    "plot_image(output2)\n",
    "\n",
    "# Save pbm\n",
    "save_pbm('pbm_images/step2.pbm', output2)\n",
    "\n",
    "# Save png\n",
    "cv2.imwrite('png_images/step2.png',(np.where(output2==0, 255, 0)).astype('uint8'))"
   ]
  },
  {
   "cell_type": "markdown",
   "metadata": {},
   "source": [
    "**Passo 3:** dilatação da imagem original com um elemento estruturante de 200 pixels de altura e 1 pixel de largura;"
   ]
  },
  {
   "cell_type": "code",
   "execution_count": 5,
   "metadata": {},
   "outputs": [
    {
     "data": {
      "text/plain": [
       "True"
      ]
     },
     "execution_count": 5,
     "metadata": {},
     "output_type": "execute_result"
    }
   ],
   "source": [
    "s_e3 = np.ones((200,1))\n",
    "output3 = morphology.binary_dilation(image,s_e3)\n",
    "\n",
    "# Save pbm\n",
    "save_pbm('pbm_images/step3.pbm', output3)\n",
    "\n",
    "# Save png\n",
    "cv2.imwrite('png_images/step3.png',(np.where(output3==0, 255, 0)).astype('uint8'))\n"
   ]
  },
  {
   "cell_type": "markdown",
   "metadata": {},
   "source": [
    "**Passo 4:** erosão da imagem resultante com o mesmo elemento estruturante do passo (3);"
   ]
  },
  {
   "cell_type": "code",
   "execution_count": 6,
   "metadata": {},
   "outputs": [
    {
     "data": {
      "image/png": "[encoded data removed]",
      "text/plain": [
       "<Figure size 720x2880 with 2 Axes>"
      ]
     },
     "metadata": {},
     "output_type": "display_data"
    },
    {
     "data": {
      "text/plain": [
       "True"
      ]
     },
     "execution_count": 6,
     "metadata": {},
     "output_type": "execute_result"
    }
   ],
   "source": [
    "output4 = morphology.binary_erosion(output3,s_e3)\n",
    "plot_images([output3,output4],['output3','output4'])\n",
    "\n",
    "\n",
    "# Save pbm\n",
    "save_pbm('pbm_images/step4pbm', output3)\n",
    "\n",
    "# Save png\n",
    "cv2.imwrite('png_images/step4.png',(np.where(output4==0, 255, 0)).astype('uint8'))"
   ]
  },
  {
   "cell_type": "markdown",
   "metadata": {},
   "source": [
    "**Passo 5:** aplicacao da intersecçao (AND) dos resultados dos passos (2) e (4) "
   ]
  },
  {
   "cell_type": "code",
   "execution_count": 7,
   "metadata": {},
   "outputs": [
    {
     "data": {
      "image/png": "[encoded data removed]",
      "text/plain": [
       "<Figure size 216x216 with 1 Axes>"
      ]
     },
     "metadata": {},
     "output_type": "display_data"
    },
    {
     "name": "stdout",
     "output_type": "stream",
     "text": [
      "Min: False\n",
      "Max: True\n",
      "Mean: 0.27841833917726105\n"
     ]
    },
    {
     "data": {
      "text/plain": [
       "True"
      ]
     },
     "execution_count": 7,
     "metadata": {},
     "output_type": "execute_result"
    }
   ],
   "source": [
    "output5= np.logical_and(output2,output4) \n",
    "plot_image(output5)\n",
    "\n",
    "\n",
    "# Save pbm\n",
    "save_pbm('pbm_images/step5.pbm', output2)\n",
    "\n",
    "# Save png\n",
    "cv2.imwrite('png_images/step5.png',(np.where(output5==0, 255, 0)).astype('uint8'))"
   ]
  },
  {
   "cell_type": "markdown",
   "metadata": {},
   "source": [
    "**Passo 6:** fechamento do resultado obtido no psso (5) com um elemento estruturante de 1 pixel de altura e 30pixels de largura"
   ]
  },
  {
   "cell_type": "code",
   "execution_count": 8,
   "metadata": {},
   "outputs": [
    {
     "data": {
      "image/png": "[encoded data removed]",
      "text/plain": [
       "<Figure size 216x216 with 1 Axes>"
      ]
     },
     "metadata": {},
     "output_type": "display_data"
    },
    {
     "name": "stdout",
     "output_type": "stream",
     "text": [
      "Min: False\n",
      "Max: True\n",
      "Mean: 0.29078543300798987\n"
     ]
    },
    {
     "data": {
      "text/plain": [
       "True"
      ]
     },
     "execution_count": 8,
     "metadata": {},
     "output_type": "execute_result"
    }
   ],
   "source": [
    "s_e6 = np.ones((1,30))\n",
    "output6 = morphology.binary_closing(output5,s_e6)\n",
    "plot_image(output6)\n",
    "\n",
    "# Save pbm\n",
    "save_pbm('pbm_images/step6.pbm', output6)\n",
    "\n",
    "# Save png\n",
    "cv2.imwrite('png_images/step6.png',(np.where(output6==0, 255, 0)).astype('uint8'))"
   ]
  },
  {
   "cell_type": "markdown",
   "metadata": {},
   "source": [
    "**Passo 7:** aplicação de algoritmo para identificação de componentes conexos (ver programa fornecido) sobre o resultado do passo (6);"
   ]
  },
  {
   "cell_type": "code",
   "execution_count": 9,
   "metadata": {},
   "outputs": [
    {
     "name": "stdout",
     "output_type": "stream",
     "text": [
      "\r\n",
      "Image size (width x height): 2233 x 1374  pixels\r\n",
      "\r\n",
      "Number of connected components: 56\r\n"
     ]
    }
   ],
   "source": [
    "os.system(\"./comp_conexos.o pbm_images/step6.pbm pbm_images/comp_step6.pbm > comp_results.txt\")\n",
    "! cat comp_results.txt"
   ]
  },
  {
   "cell_type": "code",
   "execution_count": 10,
   "metadata": {},
   "outputs": [
    {
     "data": {
      "image/png": "[encoded data removed]",
      "text/plain": [
       "<Figure size 216x216 with 1 Axes>"
      ]
     },
     "metadata": {},
     "output_type": "display_data"
    },
    {
     "name": "stdout",
     "output_type": "stream",
     "text": [
      "Min: 0\n",
      "Max: 255\n",
      "Mean: 176.56810701721108\n"
     ]
    },
    {
     "data": {
      "text/plain": [
       "True"
      ]
     },
     "execution_count": 10,
     "metadata": {},
     "output_type": "execute_result"
    }
   ],
   "source": [
    "output7 = cv2.imread('pbm_images/comp_step6.pbm',0)\n",
    "plot_image(output7)\n",
    "\n",
    "# Save as png\n",
    "cv2.imwrite('png_images/step7.png', output7.astype('uint8'))"
   ]
  },
  {
   "cell_type": "markdown",
   "metadata": {},
   "source": [
    "**Passo 8:** para cada retângulo envolvendo um objeto, calcule:  \n",
    "* **(a)** razão entre o número de pixels pretos e o n´umero total de pixels (altura × largura);  \n",
    "* **(b)** razão entre o número de transi¸c˜oes verticais e horizontais branco para preto e o número total de  \n",
    "pixels pretos;\n",
    "---\n",
    "* cv2.CC_STAT_LEFT The leftmost (x) coordinate which is the inclusive start of the bounding box in the horizontal direction.\n",
    "* cv2.CC_STAT_TOP The topmost (y) coordinate which is the inclusive start of the bounding box in the vertical direction.\n",
    "* cv2.CC_STAT_WIDTH The horizontal size of the bounding box\n",
    "* cv2.CC_STAT_HEIGHT The vertical size of the bounding box\n",
    "* cv2.CC_STAT_AREA The total area (in pixels) of the connected component"
   ]
  },
  {
   "cell_type": "code",
   "execution_count": null,
   "metadata": {},
   "outputs": [],
   "source": []
  },
  {
   "cell_type": "code",
   "execution_count": 11,
   "metadata": {},
   "outputs": [],
   "source": [
    "output6 = cv2.imread('pbm_images/step6.pbm', 0)\n",
    "output6 = np.where(output6 == 0, 1, 0).astype('uint8')\n",
    "\n",
    "shape = output6.shape\n",
    "retval, labels, stats, centroids = connectedComponentsWithStats(output6,connectivity=4)\n",
    "output6 = np.where(output6==1,0,1)"
   ]
  },
  {
   "cell_type": "code",
   "execution_count": 12,
   "metadata": {},
   "outputs": [
    {
     "data": {
      "image/png": "[encoded data removed]",
      "text/plain": [
       "<Figure size 216x216 with 1 Axes>"
      ]
     },
     "metadata": {},
     "output_type": "display_data"
    },
    {
     "name": "stdout",
     "output_type": "stream",
     "text": [
      "Min: 0\n",
      "Max: 56\n",
      "Mean: 4.900424752179006\n",
      "Number of components: 57\n"
     ]
    }
   ],
   "source": [
    "n_components = len(stats)\n",
    "output7 = labels\n",
    "plot_image(output7)\n",
    "\n",
    "print('Number of components:', n_components)"
   ]
  },
  {
   "cell_type": "code",
   "execution_count": 13,
   "metadata": {},
   "outputs": [
    {
     "name": "stdout",
     "output_type": "stream",
     "text": [
      "black/area: 0.29078543300798987 white:  2175971 black:  892171\n",
      "black/area: 0.840729800173762 white:  4583 black:  24192\n",
      "black/area: 0.9693877551020408 white:  27 black:  855\n",
      "black/area: 0.75 white:  2 black:  6\n",
      "black/area: 1.0 white:  0 black:  2\n",
      "black/area: 0.9755739669829973 white:  7907 black:  315805\n",
      "black/area: 0.6216809933142311 white:  15844 black:  26036\n",
      "black/area: 0.6603629417382999 white:  14224 black:  27656\n",
      "black/area: 0.6612325403534195 white:  8416 black:  16427\n",
      "black/area: 0.6891788766788767 white:  12219 black:  27093\n",
      "black/area: 0.5965887404580152 white:  16911 black:  25009\n",
      "black/area: 0.9 white:  2 black:  18\n",
      "black/area: 0.5868264940922685 white:  16855 black:  23939\n",
      "black/area: 0.85 white:  3 black:  17\n",
      "black/area: 0.660792741165234 white:  14206 black:  27674\n",
      "black/area: 0.5999044890162368 white:  16756 black:  25124\n",
      "black/area: 0.6666507177033493 white:  13934 black:  27866\n",
      "black/area: 0.6305684128033698 white:  15085 black:  25748\n",
      "black/area: 0.7249038767663409 white:  11233 black:  29600\n",
      "black/area: 1.0 white:  0 black:  1\n",
      "black/area: 0.7408972932888395 white:  3494 black:  9991\n",
      "black/area: 0.5083333333333333 white:  118 black:  122\n",
      "black/area: 0.6614527459597882 white:  9783 black:  19114\n",
      "black/area: 0.17221645339350264 white:  106025 black:  22058\n",
      "black/area: 0.714940668824164 white:  1057 black:  2651\n",
      "black/area: 0.7407062234648442 white:  2504 black:  7153\n",
      "black/area: 1.0 white:  0 black:  1\n",
      "black/area: 0.6605229462901813 white:  10075 black:  19603\n",
      "black/area: 0.5834758809442354 white:  2435 black:  3411\n",
      "black/area: 0.9107142857142857 white:  5 black:  51\n",
      "black/area: 0.8461887477313974 white:  1695 black:  9325\n",
      "black/area: 0.7475213675213676 white:  5908 black:  17492\n",
      "black/area: 0.8 white:  5 black:  20\n",
      "black/area: 0.7639541715628673 white:  1607 black:  5201\n",
      "black/area: 0.36153846153846153 white:  166 black:  94\n",
      "black/area: 0.7832308874375721 white:  2257 black:  8155\n",
      "black/area: 0.6303996226160793 white:  10969 black:  18709\n",
      "black/area: 0.6161271161271161 white:  2585 black:  4149\n",
      "black/area: 0.5219298245614035 white:  109 black:  119\n",
      "black/area: 0.8430749088188535 white:  1678 black:  9015\n",
      "black/area: 0.6305197150267573 white:  11254 black:  19205\n",
      "black/area: 0.8 white:  5 black:  20\n",
      "black/area: 0.8814190027288514 white:  478 black:  3553\n",
      "black/area: 0.4880952380952381 white:  129 black:  123\n",
      "black/area: 1.0 white:  0 black:  7\n",
      "black/area: 1.0 white:  0 black:  7\n",
      "black/area: 1.0 white:  0 black:  1\n",
      "black/area: 0.6368994989684645 white:  11088 black:  19449\n",
      "black/area: 0.5707298236581284 white:  13340 black:  17736\n",
      "black/area: 0.9375 white:  1 black:  15\n",
      "black/area: 0.489247311827957 white:  1520 black:  1456\n",
      "black/area: 0.5821812596006144 white:  1088 black:  1516\n",
      "black/area: 0.6748399487836108 white:  10158 black:  21082\n",
      "black/area: 1.0 white:  0 black:  1\n",
      "black/area: 0.75 white:  1 black:  3\n",
      "black/area: 0.6440123997573961 white:  10565 black:  19113\n",
      "black/area: 0.6789132882882883 white:  4562 black:  9646\n"
     ]
    }
   ],
   "source": [
    "# step 8a\n",
    "black_ratio = []\n",
    "n_black = []\n",
    "for component_index in range(len(stats)):\n",
    "    x = stats[component_index,cv2.CC_STAT_LEFT]\n",
    "    y = stats[component_index,cv2.CC_STAT_TOP]\n",
    "    width = stats[component_index,cv2.CC_STAT_WIDTH]\n",
    "    height = stats[component_index,cv2.CC_STAT_HEIGHT]\n",
    "    area = stats[component_index,cv2.CC_STAT_AREA]\n",
    "    window = output6[y:y+height, x:x+width]\n",
    "    n_white_pixels = (window==1).sum()\n",
    "    n_black_pixels = (window==0).sum()\n",
    "    total = n_white_pixels + n_black_pixels\n",
    "    print('black/area:', n_black_pixels/total, 'white: ', n_white_pixels, 'black: ', n_black_pixels)\n",
    "    black_ratio.append(n_black_pixels/total)\n",
    "    n_black.append(n_black_pixels)"
   ]
  },
  {
   "cell_type": "code",
   "execution_count": 14,
   "metadata": {},
   "outputs": [
    {
     "name": "stdout",
     "output_type": "stream",
     "text": [
      "57\n"
     ]
    },
    {
     "data": {
      "text/plain": [
       "Text(0,0.5,'frequencia')"
      ]
     },
     "execution_count": 14,
     "metadata": {},
     "output_type": "execute_result"
    },
    {
     "data": {
      "image/png": "[encoded data removed]",
      "text/plain": [
       "<Figure size 432x288 with 1 Axes>"
      ]
     },
     "metadata": {},
     "output_type": "display_data"
    }
   ],
   "source": [
    "import math\n",
    "print(len(black_ratio))\n",
    "bins = np.linspace(0,1,num=10)\n",
    "freq = np.zeros((10,1))\n",
    "for i in range(len(black_ratio)):\n",
    "    freq[min(int(float(black_ratio[i])*10),9)] += 1\n",
    "plt.plot(bins, freq,'ro')\n",
    "plt.xlabel('razão entre pixels preto/total')\n",
    "plt.ylabel('frequencia')"
   ]
  },
  {
   "cell_type": "markdown",
   "metadata": {},
   "source": [
    "**Passo 8b**"
   ]
  },
  {
   "cell_type": "code",
   "execution_count": 15,
   "metadata": {},
   "outputs": [],
   "source": [
    "# step 8b\n",
    "# black_ratio = []\n",
    "def step8(bin_image, stats):\n",
    "    v_transitions = []\n",
    "    h_transitions = []\n",
    "\n",
    "    # Add padding to the array\n",
    "    temp = np.pad(bin_image,1,'constant', constant_values=1)\n",
    "    for component_index in range(len(stats)):\n",
    "\n",
    "        x = stats[component_index,cv2.CC_STAT_LEFT]\n",
    "        y = stats[component_index,cv2.CC_STAT_TOP]\n",
    "        x += 1\n",
    "        y += 1 \n",
    "        width = stats[component_index,cv2.CC_STAT_WIDTH]\n",
    "        height = stats[component_index,cv2.CC_STAT_HEIGHT]\n",
    "        original_window = temp[y:y+height, x:x+width]\n",
    "\n",
    "        v_trans_window = temp[y:y+height, (x-1):(x+width-1)]\n",
    "        h_trans_window = temp[y-1:y+height-1,x:x+width]\n",
    "        n_vert_transitions = ((original_window-v_trans_window)==-1).sum()\n",
    "        n_horiz_transitions = ((original_window-h_trans_window)==-1).sum()\n",
    "        h_transitions.append(n_horiz_transitions)\n",
    "        v_transitions.append(n_vert_transitions)\n",
    "\n",
    "\n",
    "    v_transitions = np.array(v_transitions)\n",
    "    h_transitions = np.array(h_transitions)\n",
    "    return v_transitions, h_transitions"
   ]
  },
  {
   "cell_type": "markdown",
   "metadata": {},
   "source": [
    "Visualiza uma componete conexa, ela deve aparecer em preto com fundo branco."
   ]
  },
  {
   "cell_type": "code",
   "execution_count": 16,
   "metadata": {},
   "outputs": [],
   "source": [
    "v_transitions, h_transitions = step8(output6, stats)"
   ]
  },
  {
   "cell_type": "code",
   "execution_count": 17,
   "metadata": {},
   "outputs": [
    {
     "name": "stdout",
     "output_type": "stream",
     "text": [
      "Component 1:  0.11540745398022983\n"
     ]
    },
    {
     "data": {
      "image/png": "[encoded data removed]",
      "text/plain": [
       "<Figure size 216x216 with 1 Axes>"
      ]
     },
     "metadata": {},
     "output_type": "display_data"
    },
    {
     "name": "stdout",
     "output_type": "stream",
     "text": [
      "Min: 0\n",
      "Max: 255\n",
      "Mean: 74.15028541703741\n",
      "Component 2:  0.031141868512110725\n"
     ]
    },
    {
     "data": {
      "image/png": "[encoded data removed]",
      "text/plain": [
       "<Figure size 216x216 with 1 Axes>"
      ]
     },
     "metadata": {},
     "output_type": "display_data"
    },
    {
     "name": "stdout",
     "output_type": "stream",
     "text": [
      "Min: 0\n",
      "Max: 255\n",
      "Mean: 252.9893499062299\n",
      "Component 3:  0.5\n"
     ]
    },
    {
     "data": {
      "image/png": "[encoded data removed]",
      "text/plain": [
       "<Figure size 216x216 with 1 Axes>"
      ]
     },
     "metadata": {},
     "output_type": "display_data"
    },
    {
     "name": "stdout",
     "output_type": "stream",
     "text": [
      "Min: 0\n",
      "Max: 255\n",
      "Mean: 254.92893907778713\n",
      "Component 4:  2.0\n"
     ]
    },
    {
     "data": {
      "image/png": "[encoded data removed]",
      "text/plain": [
       "<Figure size 216x216 with 1 Axes>"
      ]
     },
     "metadata": {},
     "output_type": "display_data"
    },
    {
     "name": "stdout",
     "output_type": "stream",
     "text": [
      "Min: 0\n",
      "Max: 255\n",
      "Mean: 254.99950132686166\n",
      "Component 5:  0.5\n"
     ]
    },
    {
     "data": {
      "image/png": "[encoded data removed]",
      "text/plain": [
       "<Figure size 216x216 with 1 Axes>"
      ]
     },
     "metadata": {},
     "output_type": "display_data"
    },
    {
     "name": "stdout",
     "output_type": "stream",
     "text": [
      "Min: 0\n",
      "Max: 255\n",
      "Mean: 254.99983377562054\n",
      "Component 6:  0.4466248037676609\n"
     ]
    },
    {
     "data": {
      "image/png": "[encoded data removed]",
      "text/plain": [
       "<Figure size 216x216 with 1 Axes>"
      ]
     },
     "metadata": {},
     "output_type": "display_data"
    },
    {
     "name": "stdout",
     "output_type": "stream",
     "text": [
      "Min: 0\n",
      "Max: 255\n",
      "Mean: 228.7527549246417\n",
      "Component 7:  0.04977029096477795\n"
     ]
    },
    {
     "data": {
      "image/png": "[encoded data removed]",
      "text/plain": [
       "<Figure size 216x216 with 1 Axes>"
      ]
     },
     "metadata": {},
     "output_type": "display_data"
    },
    {
     "name": "stdout",
     "output_type": "stream",
     "text": [
      "Min: 0\n",
      "Max: 255\n",
      "Mean: 252.83609102838133\n",
      "Component 8:  0.06070826306913996\n"
     ]
    },
    {
     "data": {
      "image/png": "[encoded data removed]",
      "text/plain": [
       "<Figure size 216x216 with 1 Axes>"
      ]
     },
     "metadata": {},
     "output_type": "display_data"
    },
    {
     "name": "stdout",
     "output_type": "stream",
     "text": [
      "Min: 0\n",
      "Max: 255\n",
      "Mean: 252.70144928103068\n",
      "Component 9:  0.09846153846153846\n"
     ]
    },
    {
     "data": {
      "image/png": "[encoded data removed]",
      "text/plain": [
       "<Figure size 216x216 with 1 Axes>"
      ]
     },
     "metadata": {},
     "output_type": "display_data"
    },
    {
     "name": "stdout",
     "output_type": "stream",
     "text": [
      "Min: 0\n",
      "Max: 255\n",
      "Mean: 253.63471605942618\n",
      "Component 10:  0.053497942386831275\n"
     ]
    },
    {
     "data": {
      "image/png": "[encoded data removed]",
      "text/plain": [
       "<Figure size 216x216 with 1 Axes>"
      ]
     },
     "metadata": {},
     "output_type": "display_data"
    },
    {
     "name": "stdout",
     "output_type": "stream",
     "text": [
      "Min: 0\n",
      "Max: 255\n",
      "Mean: 252.7482414438445\n",
      "Component 11:  0.06694214876033058\n"
     ]
    },
    {
     "data": {
      "image/png": "[encoded data removed]",
      "text/plain": [
       "<Figure size 216x216 with 1 Axes>"
      ]
     },
     "metadata": {},
     "output_type": "display_data"
    },
    {
     "name": "stdout",
     "output_type": "stream",
     "text": [
      "Min: 0\n",
      "Max: 255\n",
      "Mean: 252.9229432666415\n",
      "Component 12:  1.25\n"
     ]
    },
    {
     "data": {
      "image/png": "[encoded data removed]",
      "text/plain": [
       "<Figure size 216x216 with 1 Axes>"
      ]
     },
     "metadata": {},
     "output_type": "display_data"
    },
    {
     "name": "stdout",
     "output_type": "stream",
     "text": [
      "Min: 0\n",
      "Max: 255\n",
      "Mean: 254.99850398058499\n",
      "Component 13:  0.05801772763900081\n"
     ]
    },
    {
     "data": {
      "image/png": "[encoded data removed]",
      "text/plain": [
       "<Figure size 216x216 with 1 Axes>"
      ]
     },
     "metadata": {},
     "output_type": "display_data"
    },
    {
     "name": "stdout",
     "output_type": "stream",
     "text": [
      "Min: 0\n",
      "Max: 255\n",
      "Mean: 253.011790197455\n",
      "Component 14:  1.25\n"
     ]
    },
    {
     "data": {
      "image/png": "[encoded data removed]",
      "text/plain": [
       "<Figure size 216x216 with 1 Axes>"
      ]
     },
     "metadata": {},
     "output_type": "display_data"
    },
    {
     "name": "stdout",
     "output_type": "stream",
     "text": [
      "Min: 0\n",
      "Max: 255\n",
      "Mean: 254.99858709277473\n",
      "Component 15:  0.05258467023172905\n"
     ]
    },
    {
     "data": {
      "image/png": "[encoded data removed]",
      "text/plain": [
       "<Figure size 216x216 with 1 Axes>"
      ]
     },
     "metadata": {},
     "output_type": "display_data"
    },
    {
     "name": "stdout",
     "output_type": "stream",
     "text": [
      "Min: 0\n",
      "Max: 255\n",
      "Mean: 252.69995326161566\n",
      "Component 16:  0.06919275123558484\n"
     ]
    },
    {
     "data": {
      "image/png": "[encoded data removed]",
      "text/plain": [
       "<Figure size 216x216 with 1 Axes>"
      ]
     },
     "metadata": {},
     "output_type": "display_data"
    },
    {
     "name": "stdout",
     "output_type": "stream",
     "text": [
      "Min: 0\n",
      "Max: 255\n",
      "Mean: 252.91188934540838\n",
      "Component 17:  0.05541125541125541\n"
     ]
    },
    {
     "data": {
      "image/png": "[encoded data removed]",
      "text/plain": [
       "<Figure size 216x216 with 1 Axes>"
      ]
     },
     "metadata": {},
     "output_type": "display_data"
    },
    {
     "name": "stdout",
     "output_type": "stream",
     "text": [
      "Min: 0\n",
      "Max: 255\n",
      "Mean: 252.68399572118892\n",
      "Component 18:  0.08608058608058608\n"
     ]
    },
    {
     "data": {
      "image/png": "[encoded data removed]",
      "text/plain": [
       "<Figure size 216x216 with 1 Axes>"
      ]
     },
     "metadata": {},
     "output_type": "display_data"
    },
    {
     "name": "stdout",
     "output_type": "stream",
     "text": [
      "Min: 0\n",
      "Max: 255\n",
      "Mean: 252.86002733902146\n",
      "Component 19:  0.04212299915754002\n"
     ]
    },
    {
     "data": {
      "image/png": "[encoded data removed]",
      "text/plain": [
       "<Figure size 216x216 with 1 Axes>"
      ]
     },
     "metadata": {},
     "output_type": "display_data"
    },
    {
     "name": "stdout",
     "output_type": "stream",
     "text": [
      "Min: 0\n",
      "Max: 255\n",
      "Mean: 252.53987918420987\n",
      "Component 20:  1.0\n"
     ]
    },
    {
     "data": {
      "image/png": "[encoded data removed]",
      "text/plain": [
       "<Figure size 216x216 with 1 Axes>"
      ]
     },
     "metadata": {},
     "output_type": "display_data"
    },
    {
     "name": "stdout",
     "output_type": "stream",
     "text": [
      "Min: 0\n",
      "Max: 255\n",
      "Mean: 254.9999168878103\n",
      "Component 21:  0.08384458077709611\n"
     ]
    },
    {
     "data": {
      "image/png": "[encoded data removed]",
      "text/plain": [
       "<Figure size 216x216 with 1 Axes>"
      ]
     },
     "metadata": {},
     "output_type": "display_data"
    },
    {
     "name": "stdout",
     "output_type": "stream",
     "text": [
      "Min: 0\n",
      "Max: 255\n",
      "Mean: 254.1696261124811\n",
      "Component 22:  0.7407407407407407\n"
     ]
    },
    {
     "data": {
      "image/png": "[encoded data removed]",
      "text/plain": [
       "<Figure size 216x216 with 1 Axes>"
      ]
     },
     "metadata": {},
     "output_type": "display_data"
    },
    {
     "name": "stdout",
     "output_type": "stream",
     "text": [
      "Min: 0\n",
      "Max: 255\n",
      "Mean: 254.98986031285384\n",
      "Component 23:  0.0497335701598579\n"
     ]
    },
    {
     "data": {
      "image/png": "[encoded data removed]",
      "text/plain": [
       "<Figure size 216x216 with 1 Axes>"
      ]
     },
     "metadata": {},
     "output_type": "display_data"
    },
    {
     "name": "stdout",
     "output_type": "stream",
     "text": [
      "Min: 0\n",
      "Max: 255\n",
      "Mean: 253.41139360564145\n",
      "Component 24:  0.5255474452554745\n"
     ]
    },
    {
     "data": {
      "image/png": "[encoded data removed]",
      "text/plain": [
       "<Figure size 216x216 with 1 Axes>"
      ]
     },
     "metadata": {},
     "output_type": "display_data"
    },
    {
     "name": "stdout",
     "output_type": "stream",
     "text": [
      "Min: 0\n",
      "Max: 255\n",
      "Mean: 253.18084039135087\n",
      "Component 25:  0.3302752293577982\n"
     ]
    },
    {
     "data": {
      "image/png": "[encoded data removed]",
      "text/plain": [
       "<Figure size 216x216 with 1 Axes>"
      ]
     },
     "metadata": {},
     "output_type": "display_data"
    },
    {
     "name": "stdout",
     "output_type": "stream",
     "text": [
      "Min: 0\n",
      "Max: 255\n",
      "Mean: 254.77966958504527\n",
      "Component 26:  0.10991957104557641\n"
     ]
    },
    {
     "data": {
      "image/png": "[encoded data removed]",
      "text/plain": [
       "<Figure size 216x216 with 1 Axes>"
      ]
     },
     "metadata": {},
     "output_type": "display_data"
    },
    {
     "name": "stdout",
     "output_type": "stream",
     "text": [
      "Min: 0\n",
      "Max: 255\n",
      "Mean: 254.40549850691394\n",
      "Component 27:  1.0\n"
     ]
    },
    {
     "data": {
      "image/png": "[encoded data removed]",
      "text/plain": [
       "<Figure size 216x216 with 1 Axes>"
      ]
     },
     "metadata": {},
     "output_type": "display_data"
    },
    {
     "name": "stdout",
     "output_type": "stream",
     "text": [
      "Min: 0\n",
      "Max: 255\n",
      "Mean: 254.9999168878103\n",
      "Component 28:  0.0640074211502783\n"
     ]
    },
    {
     "data": {
      "image/png": "[encoded data removed]",
      "text/plain": [
       "<Figure size 216x216 with 1 Axes>"
      ]
     },
     "metadata": {},
     "output_type": "display_data"
    },
    {
     "name": "stdout",
     "output_type": "stream",
     "text": [
      "Min: 0\n",
      "Max: 255\n",
      "Mean: 253.37075174486708\n",
      "Component 29:  0.24861878453038674\n"
     ]
    },
    {
     "data": {
      "image/png": "[encoded data removed]",
      "text/plain": [
       "<Figure size 216x216 with 1 Axes>"
      ]
     },
     "metadata": {},
     "output_type": "display_data"
    },
    {
     "name": "stdout",
     "output_type": "stream",
     "text": [
      "Min: 0\n",
      "Max: 255\n",
      "Mean: 254.71650432085607\n",
      "Component 30:  1.1428571428571428\n"
     ]
    },
    {
     "data": {
      "image/png": "[encoded data removed]",
      "text/plain": [
       "<Figure size 216x216 with 1 Axes>"
      ]
     },
     "metadata": {},
     "output_type": "display_data"
    },
    {
     "name": "stdout",
     "output_type": "stream",
     "text": [
      "Min: 0\n",
      "Max: 255\n",
      "Mean: 254.99576127832415\n",
      "Component 31:  0.10275689223057644\n"
     ]
    },
    {
     "data": {
      "image/png": "[encoded data removed]",
      "text/plain": [
       "<Figure size 216x216 with 1 Axes>"
      ]
     },
     "metadata": {},
     "output_type": "display_data"
    },
    {
     "name": "stdout",
     "output_type": "stream",
     "text": [
      "Min: 0\n",
      "Max: 255\n",
      "Mean: 254.2249788308364\n",
      "Component 32:  0.06835443037974684\n"
     ]
    },
    {
     "data": {
      "image/png": "[encoded data removed]",
      "text/plain": [
       "<Figure size 216x216 with 1 Axes>"
      ]
     },
     "metadata": {},
     "output_type": "display_data"
    },
    {
     "name": "stdout",
     "output_type": "stream",
     "text": [
      "Min: 0\n",
      "Max: 255\n",
      "Mean: 253.54786382116603\n",
      "Component 33:  1.0\n"
     ]
    },
    {
     "data": {
      "image/png": "[encoded data removed]",
      "text/plain": [
       "<Figure size 216x216 with 1 Axes>"
      ]
     },
     "metadata": {},
     "output_type": "display_data"
    },
    {
     "name": "stdout",
     "output_type": "stream",
     "text": [
      "Min: 0\n",
      "Max: 255\n",
      "Mean: 254.99833775620556\n",
      "Component 34:  0.19576719576719576\n"
     ]
    },
    {
     "data": {
      "image/png": "[encoded data removed]",
      "text/plain": [
       "<Figure size 216x216 with 1 Axes>"
      ]
     },
     "metadata": {},
     "output_type": "display_data"
    },
    {
     "name": "stdout",
     "output_type": "stream",
     "text": [
      "Min: 0\n",
      "Max: 255\n",
      "Mean: 254.56773350125255\n",
      "Component 35:  1.1764705882352942\n"
     ]
    },
    {
     "data": {
      "image/png": "[encoded data removed]",
      "text/plain": [
       "<Figure size 216x216 with 1 Axes>"
      ]
     },
     "metadata": {},
     "output_type": "display_data"
    },
    {
     "name": "stdout",
     "output_type": "stream",
     "text": [
      "Min: 0\n",
      "Max: 255\n",
      "Mean: 254.99218745416607\n",
      "Component 36:  0.13333333333333333\n"
     ]
    },
    {
     "data": {
      "image/png": "[encoded data removed]",
      "text/plain": [
       "<Figure size 216x216 with 1 Axes>"
      ]
     },
     "metadata": {},
     "output_type": "display_data"
    },
    {
     "name": "stdout",
     "output_type": "stream",
     "text": [
      "Min: 0\n",
      "Max: 255\n",
      "Mean: 254.32222009281188\n",
      "Component 37:  0.0527363184079602\n"
     ]
    },
    {
     "data": {
      "image/png": "[encoded data removed]",
      "text/plain": [
       "<Figure size 216x216 with 1 Axes>"
      ]
     },
     "metadata": {},
     "output_type": "display_data"
    },
    {
     "name": "stdout",
     "output_type": "stream",
     "text": [
      "Min: 0\n",
      "Max: 255\n",
      "Mean: 253.44505404247914\n",
      "Component 38:  0.18048780487804877\n"
     ]
    },
    {
     "data": {
      "image/png": "[encoded data removed]",
      "text/plain": [
       "<Figure size 216x216 with 1 Axes>"
      ]
     },
     "metadata": {},
     "output_type": "display_data"
    },
    {
     "name": "stdout",
     "output_type": "stream",
     "text": [
      "Min: 0\n",
      "Max: 255\n",
      "Mean: 254.65516752484078\n",
      "Component 39:  1.2666666666666666\n"
     ]
    },
    {
     "data": {
      "image/png": "[encoded data removed]",
      "text/plain": [
       "<Figure size 216x216 with 1 Axes>"
      ]
     },
     "metadata": {},
     "output_type": "display_data"
    },
    {
     "name": "stdout",
     "output_type": "stream",
     "text": [
      "Min: 0\n",
      "Max: 255\n",
      "Mean: 254.990109649423\n",
      "Component 40:  0.10301507537688442\n"
     ]
    },
    {
     "data": {
      "image/png": "[encoded data removed]",
      "text/plain": [
       "<Figure size 216x216 with 1 Axes>"
      ]
     },
     "metadata": {},
     "output_type": "display_data"
    },
    {
     "name": "stdout",
     "output_type": "stream",
     "text": [
      "Min: 0\n",
      "Max: 255\n",
      "Mean: 254.2507436096504\n",
      "Component 41:  0.07432432432432433\n"
     ]
    },
    {
     "data": {
      "image/png": "[encoded data removed]",
      "text/plain": [
       "<Figure size 216x216 with 1 Axes>"
      ]
     },
     "metadata": {},
     "output_type": "display_data"
    },
    {
     "name": "stdout",
     "output_type": "stream",
     "text": [
      "Min: 0\n",
      "Max: 255\n",
      "Mean: 253.40549264017116\n",
      "Component 42:  1.0\n"
     ]
    },
    {
     "data": {
      "image/png": "[encoded data removed]",
      "text/plain": [
       "<Figure size 216x216 with 1 Axes>"
      ]
     },
     "metadata": {},
     "output_type": "display_data"
    },
    {
     "name": "stdout",
     "output_type": "stream",
     "text": [
      "Min: 0\n",
      "Max: 255\n",
      "Mean: 254.99833775620556\n",
      "Component 43:  0.19078947368421054\n"
     ]
    },
    {
     "data": {
      "image/png": "[encoded data removed]",
      "text/plain": [
       "<Figure size 216x216 with 1 Axes>"
      ]
     },
     "metadata": {},
     "output_type": "display_data"
    },
    {
     "name": "stdout",
     "output_type": "stream",
     "text": [
      "Min: 0\n",
      "Max: 255\n",
      "Mean: 254.70470238991547\n",
      "Component 44:  0.7\n"
     ]
    },
    {
     "data": {
      "image/png": "[encoded data removed]",
      "text/plain": [
       "<Figure size 216x216 with 1 Axes>"
      ]
     },
     "metadata": {},
     "output_type": "display_data"
    },
    {
     "name": "stdout",
     "output_type": "stream",
     "text": [
      "Min: 0\n",
      "Max: 255\n",
      "Mean: 254.98977720066412\n",
      "Component 45:  7.0\n"
     ]
    },
    {
     "data": {
      "image/png": "[encoded data removed]",
      "text/plain": [
       "<Figure size 216x216 with 1 Axes>"
      ]
     },
     "metadata": {},
     "output_type": "display_data"
    },
    {
     "name": "stdout",
     "output_type": "stream",
     "text": [
      "Min: 0\n",
      "Max: 255\n",
      "Mean: 254.99941821467195\n",
      "Component 46:  7.0\n"
     ]
    },
    {
     "data": {
      "image/png": "[encoded data removed]",
      "text/plain": [
       "<Figure size 216x216 with 1 Axes>"
      ]
     },
     "metadata": {},
     "output_type": "display_data"
    },
    {
     "name": "stdout",
     "output_type": "stream",
     "text": [
      "Min: 0\n",
      "Max: 255\n",
      "Mean: 254.99941821467195\n",
      "Component 47:  1.0\n"
     ]
    },
    {
     "data": {
      "image/png": "[encoded data removed]",
      "text/plain": [
       "<Figure size 216x216 with 1 Axes>"
      ]
     },
     "metadata": {},
     "output_type": "display_data"
    },
    {
     "name": "stdout",
     "output_type": "stream",
     "text": [
      "Min: 0\n",
      "Max: 255\n",
      "Mean: 254.9999168878103\n",
      "Component 48:  0.08008658008658008\n"
     ]
    },
    {
     "data": {
      "image/png": "[encoded data removed]",
      "text/plain": [
       "<Figure size 216x216 with 1 Axes>"
      ]
     },
     "metadata": {},
     "output_type": "display_data"
    },
    {
     "name": "stdout",
     "output_type": "stream",
     "text": [
      "Min: 0\n",
      "Max: 255\n",
      "Mean: 253.38355102208436\n",
      "Component 49:  0.08994708994708994\n"
     ]
    },
    {
     "data": {
      "image/png": "[encoded data removed]",
      "text/plain": [
       "<Figure size 216x216 with 1 Axes>"
      ]
     },
     "metadata": {},
     "output_type": "display_data"
    },
    {
     "name": "stdout",
     "output_type": "stream",
     "text": [
      "Min: 0\n",
      "Max: 255\n",
      "Mean: 253.5271688859251\n",
      "Component 50:  1.0\n"
     ]
    },
    {
     "data": {
      "image/png": "[encoded data removed]",
      "text/plain": [
       "<Figure size 216x216 with 1 Axes>"
      ]
     },
     "metadata": {},
     "output_type": "display_data"
    },
    {
     "name": "stdout",
     "output_type": "stream",
     "text": [
      "Min: 0\n",
      "Max: 255\n",
      "Mean: 254.99875331715415\n",
      "Component 51:  0.33093525179856115\n"
     ]
    },
    {
     "data": {
      "image/png": "[encoded data removed]",
      "text/plain": [
       "<Figure size 216x216 with 1 Axes>"
      ]
     },
     "metadata": {},
     "output_type": "display_data"
    },
    {
     "name": "stdout",
     "output_type": "stream",
     "text": [
      "Min: 0\n",
      "Max: 255\n",
      "Mean: 254.87898865176385\n",
      "Component 52:  0.37362637362637363\n"
     ]
    },
    {
     "data": {
      "image/png": "[encoded data removed]",
      "text/plain": [
       "<Figure size 216x216 with 1 Axes>"
      ]
     },
     "metadata": {},
     "output_type": "display_data"
    },
    {
     "name": "stdout",
     "output_type": "stream",
     "text": [
      "Min: 0\n",
      "Max: 255\n",
      "Mean: 254.87400192038046\n",
      "Component 53:  0.08056872037914692\n"
     ]
    },
    {
     "data": {
      "image/png": "[encoded data removed]",
      "text/plain": [
       "<Figure size 216x216 with 1 Axes>"
      ]
     },
     "metadata": {},
     "output_type": "display_data"
    },
    {
     "name": "stdout",
     "output_type": "stream",
     "text": [
      "Min: 0\n",
      "Max: 255\n",
      "Mean: 253.2481612650262\n",
      "Component 54:  1.0\n"
     ]
    },
    {
     "data": {
      "image/png": "[encoded data removed]",
      "text/plain": [
       "<Figure size 216x216 with 1 Axes>"
      ]
     },
     "metadata": {},
     "output_type": "display_data"
    },
    {
     "name": "stdout",
     "output_type": "stream",
     "text": [
      "Min: 0\n",
      "Max: 255\n",
      "Mean: 254.9999168878103\n",
      "Component 55:  1.0\n"
     ]
    },
    {
     "data": {
      "image/png": "[encoded data removed]",
      "text/plain": [
       "<Figure size 216x216 with 1 Axes>"
      ]
     },
     "metadata": {},
     "output_type": "display_data"
    },
    {
     "name": "stdout",
     "output_type": "stream",
     "text": [
      "Min: 0\n",
      "Max: 255\n",
      "Mean: 254.99975066343083\n",
      "Component 56:  0.06749740394600208\n"
     ]
    },
    {
     "data": {
      "image/png": "[encoded data removed]",
      "text/plain": [
       "<Figure size 216x216 with 1 Axes>"
      ]
     },
     "metadata": {},
     "output_type": "display_data"
    },
    {
     "name": "stdout",
     "output_type": "stream",
     "text": [
      "Min: 0\n",
      "Max: 255\n",
      "Mean: 253.4114767178312\n",
      "Component 57:  0.09382716049382717\n"
     ]
    },
    {
     "data": {
      "image/png": "[encoded data removed]",
      "text/plain": [
       "<Figure size 216x216 with 1 Axes>"
      ]
     },
     "metadata": {},
     "output_type": "display_data"
    },
    {
     "name": "stdout",
     "output_type": "stream",
     "text": [
      "Min: 0\n",
      "Max: 255\n",
      "Mean: 254.1982998179354\n"
     ]
    }
   ],
   "source": [
    "for i in range(n_components):\n",
    "    if h_transitions[i] != 0:\n",
    "        print('Component %d: ' %(i+1), v_transitions[i]/h_transitions[i])\n",
    "    else:\n",
    "        print('Component %d: No white to black horizontal transition' %(i+1))\n",
    "    window_indices = np.where(labels == i)\n",
    "    temp = np.full(output6.shape,255)\n",
    "    temp[window_indices] = 0\n",
    "\n",
    "# print(temp)\n",
    "\n",
    "    plot_image(temp)\n",
    "        \n",
    "v_h_ratio = v_transitions/h_transitions"
   ]
  },
  {
   "cell_type": "markdown",
   "metadata": {},
   "source": [
    "**Passo 9:**  criação de uma regra para classificar cada componente conexo, de acordo com as medidas obtidas no\n",
    "passo (8), como texto e não texto.\n"
   ]
  },
  {
   "cell_type": "code",
   "execution_count": 18,
   "metadata": {},
   "outputs": [
    {
     "name": "stdout",
     "output_type": "stream",
     "text": [
      "index =  35\n",
      "v_h_ratio 0.13333333333333333\n"
     ]
    },
    {
     "data": {
      "image/png": "[encoded data removed]",
      "text/plain": [
       "<Figure size 216x216 with 1 Axes>"
      ]
     },
     "metadata": {},
     "output_type": "display_data"
    },
    {
     "name": "stdout",
     "output_type": "stream",
     "text": [
      "Min: 0\n",
      "Max: 255\n",
      "Mean: 254.32222009281188\n"
     ]
    }
   ],
   "source": [
    "import random\n",
    "# index = random.randint(a=0,b=59)\n",
    "index = 35\n",
    "print('index = ',index)\n",
    "print('v_h_ratio', v_h_ratio[index])\n",
    "window_indices = np.where(labels == index)\n",
    "temp = np.full(output6.shape,255)\n",
    "temp[window_indices] = 0\n",
    "\n",
    "# print(temp)\n",
    "\n",
    "plot_image(temp)"
   ]
  },
  {
   "cell_type": "code",
   "execution_count": 19,
   "metadata": {},
   "outputs": [
    {
     "data": {
      "image/png": "[encoded data removed]",
      "text/plain": [
       "<Figure size 216x216 with 1 Axes>"
      ]
     },
     "metadata": {},
     "output_type": "display_data"
    },
    {
     "name": "stdout",
     "output_type": "stream",
     "text": [
      "Min: 0\n",
      "Max: 255\n",
      "Mean: 226.34300009582347\n"
     ]
    },
    {
     "data": {
      "text/plain": [
       "True"
      ]
     },
     "execution_count": 19,
     "metadata": {},
     "output_type": "execute_result"
    }
   ],
   "source": [
    "# Define a th to classify the connected components either as figure or text\n",
    "th = 0.3\n",
    "v_h_ratio[0] = 0\n",
    "v_h_ratio = np.where(v_h_ratio==np.nan,0,v_h_ratio)\n",
    "text_indices = np.where(v_h_ratio > th)\n",
    "\n",
    "temp = np.full(output6.shape,255)\n",
    "text_indices = np.array(text_indices).reshape(-1,1)\n",
    "for index in text_indices:\n",
    "    window_indices = np.where(labels == index)\n",
    "    temp[window_indices] = 0\n",
    "plot_image(temp)\n",
    "\n",
    "cv2.imwrite('png_images/step9.png', temp.astype('uint8'))"
   ]
  },
  {
   "cell_type": "code",
   "execution_count": 20,
   "metadata": {},
   "outputs": [
    {
     "data": {
      "text/plain": [
       "Text(0,0.5,'razão entre o número de transições verticais e horizontais')"
      ]
     },
     "execution_count": 20,
     "metadata": {},
     "output_type": "execute_result"
    },
    {
     "data": {
      "image/png": "[encoded data removed]",
      "text/plain": [
       "<Figure size 432x288 with 1 Axes>"
      ]
     },
     "metadata": {},
     "output_type": "display_data"
    }
   ],
   "source": [
    "plt.plot(np.arange(1,58), np.array(v_h_ratio).reshape(-1,1), 'ro')\n",
    "plt.xlabel('índice da componete conexa')\n",
    "plt.ylabel('razão entre o número de transições verticais e horizontais')\n"
   ]
  },
  {
   "cell_type": "markdown",
   "metadata": {},
   "source": [
    "**Passo 10:** aplicação de operadores morfol ́ogicos apropriados para segmentar cada linha do texto em blocos depalavras.  Coloque um retˆangulo envolvendo cada palavra na imagem original.  Calcule o n ́umero totalde linhas de texto e de blocos de palavras na imagem"
   ]
  },
  {
   "cell_type": "code",
   "execution_count": 21,
   "metadata": {},
   "outputs": [
    {
     "data": {
      "image/png": "[encoded data removed]",
      "text/plain": [
       "<Figure size 216x216 with 1 Axes>"
      ]
     },
     "metadata": {},
     "output_type": "display_data"
    },
    {
     "name": "stdout",
     "output_type": "stream",
     "text": [
      "Min: 0\n",
      "Max: 1\n",
      "Mean: 0.7911547118744829\n",
      "Number of connected components: 350\n"
     ]
    }
   ],
   "source": [
    "s_e10  = np.ones((1,11))\n",
    "output1 = morphology.binary_dilation(image,s_e10)\n",
    "output2 = morphology.binary_erosion(output1,s_e10)\n",
    "s_e3 = np.ones((200,1))\n",
    "output3 = morphology.binary_dilation(image,s_e3)\n",
    "output4 = morphology.binary_erosion(output3,s_e3)\n",
    "output5 = np.logical_and(output2, output4)\n",
    "output5 = np.where(output5 == 0, 1, 0)\n",
    "plot_image(output5)\n",
    "retval, labels, stats, centroids = connectedComponentsWithStats(output5.astype('uint8'),connectivity=4)\n",
    "print('Number of connected components:', retval)"
   ]
  },
  {
   "cell_type": "code",
   "execution_count": 22,
   "metadata": {},
   "outputs": [
    {
     "name": "stdout",
     "output_type": "stream",
     "text": [
      "Number of connected components: 350\n"
     ]
    }
   ],
   "source": [
    "retval, labels, stats, centroids = connectedComponentsWithStats(output5.astype('uint8'),connectivity=4)\n",
    "v_transitions, h_transitions = step8(output5.astype('int'), stats)\n",
    "print('Number of connected components:', retval)"
   ]
  },
  {
   "cell_type": "code",
   "execution_count": 23,
   "metadata": {},
   "outputs": [
    {
     "data": {
      "image/png": "[encoded data removed]",
      "text/plain": [
       "<Figure size 216x216 with 1 Axes>"
      ]
     },
     "metadata": {},
     "output_type": "display_data"
    },
    {
     "name": "stdout",
     "output_type": "stream",
     "text": [
      "Min: 0\n",
      "Max: 255\n",
      "Mean: 5.178886765997141\n",
      "36\n"
     ]
    }
   ],
   "source": [
    "# Define a th to classify the connected components either as figure or text\n",
    "th = 0.5\n",
    "# v_h_ratio[0] = 0\n",
    "v_h_ratio = np.where(v_h_ratio==np.nan,np.inf,v_h_ratio)\n",
    "text_indices = np.where(v_h_ratio < th)\n",
    "\n",
    "temp = np.full(output6.shape,255)\n",
    "text_indices = np.array(text_indices).reshape(-1,1)\n",
    "for index in text_indices:\n",
    "    window_indices = np.where(labels == index)\n",
    "    temp[window_indices] = 0\n",
    "plot_image(temp)\n",
    "\n",
    "print(len(text_indices))\n",
    "# cv2.imwrite('png_images/step10.png', temp.astype('uint8'))"
   ]
  },
  {
   "cell_type": "code",
   "execution_count": 24,
   "metadata": {},
   "outputs": [
    {
     "name": "stdout",
     "output_type": "stream",
     "text": [
      "Number of connected components: 350\n"
     ]
    }
   ],
   "source": [
    "print('Number of connected components:', retval)"
   ]
  }
 ],
 "metadata": {
  "kernelspec": {
   "display_name": "Python 3",
   "language": "python",
   "name": "python3"
  },
  "language_info": {
   "codemirror_mode": {
    "name": "ipython",
    "version": 3
   },
   "file_extension": ".py",
   "mimetype": "text/x-python",
   "name": "python",
   "nbconvert_exporter": "python",
   "pygments_lexer": "ipython3",
   "version": "3.6.6"
  },
  "toc": {
   "base_numbering": 1,
   "nav_menu": {},
   "number_sections": false,
   "sideBar": false,
   "skip_h1_title": false,
   "title_cell": "Table of Contents",
   "title_sidebar": "Contents",
   "toc_cell": false,
   "toc_position": {},
   "toc_section_display": false,
   "toc_window_display": false
  }
 },
 "nbformat": 4,
 "nbformat_minor": 2
}
